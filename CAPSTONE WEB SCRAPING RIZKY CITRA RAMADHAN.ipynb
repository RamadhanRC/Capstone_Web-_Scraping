{
 "cells": [
  {
   "cell_type": "markdown",
   "metadata": {},
   "source": [
    "# Capstone Webscrapping using BeautifulSoup\n",
    "\n",
    "Created by :Rizky Citra Ramadhan\n",
    "\n",
    "\n",
    "\n",
    "## Background\n",
    "\n",
    "www.imdb.com adalah sebuah website yang beisi review dan penilaian film-film dari seluruh dunia, disini akan dilakukan penarikan data atau scrapping untuk 50 film popular yang rilis pada tahun 2021 yang diambil dari link berikut https://www.imdb.com/search/title/?release_date=2021-01-01,2021-12-31. Data-data yang akan ditarik ini berupa nama judul film, nilai rating IMDb setiap film, nilai dari metascore film, dan banyaknya vote yang didapatkan masing-masing film. Akhirnya data tersebut akan ditampilkan dalam chart yang akan menunjukan 7 film dengan peringkat teratas berdasarkan popularitas yang telah diurutkan pada WEB tetapi disini juga akan dilakukan pengurutan berdasarkan besarnya nilai rating IMDb setiap film, nilai dari metascore film, dan banyaknya vote setiap film.\n",
    "\n",
    "\n",
    "\n",
    "### Requesting the Data and Creating a BeautifulSoup"
   ]
  },
  {
   "cell_type": "code",
   "execution_count": 16,
   "metadata": {
    "ExecuteTime": {
     "end_time": "2020-01-13T05:12:23.275508Z",
     "start_time": "2020-01-13T05:12:20.009898Z"
    }
   },
   "outputs": [],
   "source": [
    "import requests\n",
    "\n",
    "url_get = requests.get('https://www.imdb.com/search/title/?release_date=2021-01-01,2021-12-31')"
   ]
  },
  {
   "cell_type": "code",
   "execution_count": 17,
   "metadata": {
    "ExecuteTime": {
     "end_time": "2020-01-13T05:12:23.290648Z",
     "start_time": "2020-01-13T05:12:23.277650Z"
    }
   },
   "outputs": [
    {
     "data": {
      "text/plain": [
       "b'\\n<!DOCTYPE html>\\n<html\\n    xmlns:og=\"http://ogp.me/ns#\"\\n    xmlns:fb=\"http://www.facebook.com/2008/fbml\">\\n    <head>\\n         \\n\\n        <meta charset=\"utf-8\">\\n\\n\\n\\n\\n        <script type=\"text/javascript\">var IMDbTimer={starttime: new Date().getTime(),pt:\\'java\\'};</script>\\n\\n<script>\\n    if (typeof uet == \\'function\\') {\\n      uet(\"bb\", \"LoadTitle\", {wb: 1});\\n    }\\n</script>\\n  <script>(function(t){ (t.events = t.events || {})[\"csm_head_pre_title\"] = new Date().getTime(); })(IMDbTimer);</script>\\n      '"
      ]
     },
     "execution_count": 17,
     "metadata": {},
     "output_type": "execute_result"
    }
   ],
   "source": [
    "url_get.content[1:500]"
   ]
  },
  {
   "cell_type": "code",
   "execution_count": 18,
   "metadata": {
    "ExecuteTime": {
     "end_time": "2020-01-13T05:12:23.808122Z",
     "start_time": "2020-01-13T05:12:23.292610Z"
    }
   },
   "outputs": [],
   "source": [
    "from bs4 import BeautifulSoup \n",
    "\n",
    "soup = BeautifulSoup(url_get.content,\"html.parser\")"
   ]
  },
  {
   "cell_type": "markdown",
   "metadata": {},
   "source": [
    "### Scrap the data & Extracting the right information"
   ]
  },
  {
   "cell_type": "code",
   "execution_count": 19,
   "metadata": {
    "ExecuteTime": {
     "end_time": "2020-01-13T05:12:23.878904Z",
     "start_time": "2020-01-13T05:12:23.854974Z"
    }
   },
   "outputs": [
    {
     "name": "stdout",
     "output_type": "stream",
     "text": [
      "div class=\"lister-list\">\n",
      " <div class=\"lister-item mode-advanced\">\n",
      "  <div class=\"lister-top-right\">\n",
      "   <div class=\"ribbonize\" data-caller=\"filmosearch\" data-tconst=\"tt8179402\">\n",
      "   </div>\n",
      "  </div>\n",
      "  <div class=\"lister-item-image float-left\">\n",
      "   <a href=\"/title/tt8179402/\">\n",
      "    <img alt=\"Fate: The Winx Saga\" class=\"loadlate\" data-tconst=\"tt8179402\" height=\"98\" loadlate=\"https://m.media-amazon.com/images/M/MV5BMzEyYzBhODYtZjZlOC00MTM4LWIxMjQtMTRhZjA5ODM4ZWI2XkEyXkFqcGdeQXVyODQwODA1MjY@._V1_UY98_CR5\n"
     ]
    }
   ],
   "source": [
    "table = soup.find('div', attrs={'class':'lister-list'})\n",
    "print(table.prettify()[1:500])"
   ]
  },
  {
   "cell_type": "markdown",
   "metadata": {},
   "source": [
    "##### The Code to Scrap the Film Title Data"
   ]
  },
  {
   "cell_type": "code",
   "execution_count": 20,
   "metadata": {},
   "outputs": [
    {
     "data": {
      "text/plain": [
       "'Fate: The Winx Saga'"
      ]
     },
     "execution_count": 20,
     "metadata": {},
     "output_type": "execute_result"
    }
   ],
   "source": [
    "judul = table.find_all('h3', attrs={'class':'lister-item-header'}) \n",
    "judul[0].find('a').text"
   ]
  },
  {
   "cell_type": "code",
   "execution_count": 21,
   "metadata": {},
   "outputs": [
    {
     "data": {
      "text/plain": [
       "<div class=\"ratings-bar\">\n",
       "<div class=\"inline-block ratings-imdb-rating\" data-value=\"6.9\" name=\"ir\">\n",
       "<span class=\"global-sprite rating-star imdb-rating\"></span>\n",
       "<strong>6.9</strong>\n",
       "</div>\n",
       "<div class=\"inline-block ratings-user-rating\">\n",
       "<span class=\"userRatingValue\" data-tconst=\"tt8179402\" id=\"urv_tt8179402\">\n",
       "<span class=\"global-sprite rating-star no-rating\"></span>\n",
       "<span class=\"rate\" data-no-rating=\"Rate this\" data-value=\"0\" name=\"ur\">Rate this</span>\n",
       "</span>\n",
       "<div class=\"starBarWidget\" id=\"sb_tt8179402\">\n",
       "<div class=\"rating rating-list\" data-csrf-token=\"\" data-ga-identifier=\"\" data-starbar-class=\"rating-list\" data-user=\"\" id=\"tt8179402|imdb|6.9|6.9|adv_li_tt||advsearch|title\" itemprop=\"aggregateRating\" itemscope=\"\" itemtype=\"http://schema.org/AggregateRating\" title=\"Users rated this 6.9/10 (45,246 votes) - click stars to rate\">\n",
       "<meta content=\"6.9\" itemprop=\"ratingValue\"/>\n",
       "<meta content=\"10\" itemprop=\"bestRating\"/>\n",
       "<meta content=\"45246\" itemprop=\"ratingCount\"/>\n",
       "<span class=\"rating-bg\"> </span>\n",
       "<span class=\"rating-imdb\" style=\"width: 96.6px\"> </span>\n",
       "<span class=\"rating-stars\">\n",
       "<a href=\"/register/login?why=vote\" rel=\"nofollow\" title=\"Register or login to rate this title\"><span>1</span></a>\n",
       "<a href=\"/register/login?why=vote\" rel=\"nofollow\" title=\"Register or login to rate this title\"><span>2</span></a>\n",
       "<a href=\"/register/login?why=vote\" rel=\"nofollow\" title=\"Register or login to rate this title\"><span>3</span></a>\n",
       "<a href=\"/register/login?why=vote\" rel=\"nofollow\" title=\"Register or login to rate this title\"><span>4</span></a>\n",
       "<a href=\"/register/login?why=vote\" rel=\"nofollow\" title=\"Register or login to rate this title\"><span>5</span></a>\n",
       "<a href=\"/register/login?why=vote\" rel=\"nofollow\" title=\"Register or login to rate this title\"><span>6</span></a>\n",
       "<a href=\"/register/login?why=vote\" rel=\"nofollow\" title=\"Register or login to rate this title\"><span>7</span></a>\n",
       "<a href=\"/register/login?why=vote\" rel=\"nofollow\" title=\"Register or login to rate this title\"><span>8</span></a>\n",
       "<a href=\"/register/login?why=vote\" rel=\"nofollow\" title=\"Register or login to rate this title\"><span>9</span></a>\n",
       "<a href=\"/register/login?why=vote\" rel=\"nofollow\" title=\"Register or login to rate this title\"><span>10</span></a>\n",
       "</span>\n",
       "<span class=\"rating-rating\"><span class=\"value\">6.9</span><span class=\"grey\">/</span><span class=\"grey\">10</span></span>\n",
       "<span class=\"rating-cancel\"><a href=\"/title/tt8179402/vote\" rel=\"nofollow\" title=\"Delete\"><span>X</span></a></span>\n",
       " </div>\n",
       "</div>\n",
       "</div>\n",
       "</div>"
      ]
     },
     "execution_count": 21,
     "metadata": {},
     "output_type": "execute_result"
    }
   ],
   "source": [
    "rating = table.find_all('div', attrs={'class':'ratings-bar'})\n",
    "rating[0]"
   ]
  },
  {
   "cell_type": "markdown",
   "metadata": {},
   "source": [
    "##### The Code to Scrap the Film IMBD Rating Data"
   ]
  },
  {
   "cell_type": "code",
   "execution_count": 36,
   "metadata": {},
   "outputs": [
    {
     "data": {
      "text/plain": [
       "'6.9'"
      ]
     },
     "execution_count": 36,
     "metadata": {},
     "output_type": "execute_result"
    }
   ],
   "source": [
    "rating[0].find('meta', attrs={'itemprop':'ratingValue'})['content']"
   ]
  },
  {
   "cell_type": "markdown",
   "metadata": {},
   "source": [
    "##### The Code to Scrap the Film Vote Data"
   ]
  },
  {
   "cell_type": "code",
   "execution_count": 101,
   "metadata": {},
   "outputs": [
    {
     "data": {
      "text/plain": [
       "'45246'"
      ]
     },
     "execution_count": 101,
     "metadata": {},
     "output_type": "execute_result"
    }
   ],
   "source": [
    "rating[0].find('meta', attrs={'itemprop':'ratingCount'})['content']"
   ]
  },
  {
   "cell_type": "markdown",
   "metadata": {},
   "source": [
    "##### The Code to Scrap the Film MetaScore Data"
   ]
  },
  {
   "cell_type": "code",
   "execution_count": 103,
   "metadata": {},
   "outputs": [
    {
     "data": {
      "text/plain": [
       "'65'"
      ]
     },
     "execution_count": 103,
     "metadata": {},
     "output_type": "execute_result"
    }
   ],
   "source": [
    "rating[6].find_all('span', attrs={'class':'metascore favorable'})[0].text.strip()"
   ]
  },
  {
   "cell_type": "markdown",
   "metadata": {},
   "source": [
    "##### The Length of Row"
   ]
  },
  {
   "cell_type": "code",
   "execution_count": 39,
   "metadata": {},
   "outputs": [
    {
     "data": {
      "text/plain": [
       "50"
      ]
     },
     "execution_count": 39,
     "metadata": {},
     "output_type": "execute_result"
    }
   ],
   "source": [
    "row = table.find_all('h3', attrs={'class':'lister-item-header'})\n",
    "row_length = len(row)\n",
    "row_length"
   ]
  },
  {
   "cell_type": "markdown",
   "metadata": {},
   "source": [
    "#### Scrapping  All The Data\n",
    "Disini akan dilakukan scrapping seluruh data yang telah dicoba codenya diatas, khusus untuk data metascore karena tidak seluruh film memiliki nilai metascsore maka data yang kosong diubah menjadi nilai Nol(0)"
   ]
  },
  {
   "cell_type": "code",
   "execution_count": 40,
   "metadata": {
    "ExecuteTime": {
     "end_time": "2020-01-13T05:12:24.008256Z",
     "start_time": "2020-01-13T05:12:23.980358Z"
    },
    "scrolled": true
   },
   "outputs": [
    {
     "data": {
      "text/plain": [
       "[('Fate: The Winx Saga', '6.9', '0', '45246'),\n",
       " ('The White Lotus', '7.6', '0', '68494'),\n",
       " ('Only Murders in the Building', '8.1', '0', '97011'),\n",
       " ('Abbott Elementary', '8.2', '0', '14141'),\n",
       " ('La Brea', '5.7', '0', '10402'),\n",
       " ('Resident Alien', '8.1', '0', '39457'),\n",
       " ('The Black Phone', '7', '65', '115155'),\n",
       " ('Reservation Dogs', '8.1', '0', '14830'),\n",
       " ('Snabba cash', '7.6', '0', '9519'),\n",
       " ('Ghosts', '7.8', '0', '14924'),\n",
       " ('1883', '8.8', '0', '63482'),\n",
       " ('American Horror Stories', '6.2', '0', '20911'),\n",
       " ('Spider-Man: No Way Home', '8.3', '71', '731957'),\n",
       " ('Mare of Easttown', '8.4', '0', '152505'),\n",
       " ('Dune: Part One', '8', '74', '615652'),\n",
       " ('The Mighty Ducks: Game Changers', '7.4', '0', '4834'),\n",
       " ('Licorice Pizza', '7.2', '90', '106398'),\n",
       " ('Shadow and Bone', '7.6', '0', '83183'),\n",
       " ('Law & Order: Organized Crime', '7.7', '0', '7129'),\n",
       " ('Sing 2', '7.4', '0', '66022'),\n",
       " ('Nine Perfect Strangers', '7', '0', '49247'),\n",
       " ('No Time to Die', '7.3', '68', '390881'),\n",
       " ('Arcane: League of Legends', '9', '0', '198466'),\n",
       " ('CSI: Vegas', '7.5', '0', '6035'),\n",
       " ('Yellowjackets', '7.9', '0', '45073'),\n",
       " ('Last Night in Soho', '7.1', '65', '130957'),\n",
       " ('The Wheel of Time', '7.1', '0', '102646'),\n",
       " (\"NCIS: Hawai'i\", '6.3', '0', '5605'),\n",
       " ('Dopesick', '8.6', '0', '54867'),\n",
       " ('Ojing-eo geim', '8', '0', '436653'),\n",
       " ('Eternals', '6.3', '0', '333997'),\n",
       " ('Ghostbusters: Afterlife', '7.1', '0', '176764'),\n",
       " ('The Little Things', '6.3', '0', '99873'),\n",
       " ('The Good House', '7', '62', '274'),\n",
       " ('Bloodlands', '6.6', '0', '5123'),\n",
       " ('Halloween Kills', '5.5', '0', '78608'),\n",
       " ('Chucky', '7.3', '0', '18411'),\n",
       " ('House of Gucci', '6.6', '0', '130401'),\n",
       " ('FBI: International', '6.3', '0', '3921'),\n",
       " ('Midnight Mass', '7.7', '0', '111758'),\n",
       " ('Home Economics', '6.7', '0', '4029'),\n",
       " ('Gekijouban Jujutsu Kaisen 0', '7.9', '71', '15592'),\n",
       " ('The Sex Lives of College Girls', '7.8', '0', '15873'),\n",
       " (\"Don't Look Up\", '7.2', '0', '527099'),\n",
       " ('Pleasure', '6.4', '75', '15168'),\n",
       " ('The Matrix Resurrections', '5.7', '63', '243653'),\n",
       " ('Hacks', '8.2', '0', '28897'),\n",
       " ('The Book of Boba Fett', '7.3', '0', '144890'),\n",
       " ('WandaVision', '7.9', '0', '316633'),\n",
       " ('Free Guy', '7.1', '62', '361749')]"
      ]
     },
     "execution_count": 40,
     "metadata": {},
     "output_type": "execute_result"
    }
   ],
   "source": [
    "temp = [] #initiating a tuple\n",
    "\n",
    "for i in range(0, row_length):\n",
    "\n",
    "    #scrapping process\n",
    "    Title = judul[i].find('a').text\n",
    "    IMDB_Rating = rating[i].find('meta', attrs={'itemprop':'ratingValue'})['content']\n",
    "    Vote = rating[i].find('meta', attrs={'itemprop':'ratingCount'})['content']\n",
    "    MetaScore = rating[i].find_all('span', attrs={'class':'metascore favorable'})\n",
    "    if len(MetaScore) > 0:\n",
    "        MetaScore = rating[i].find_all('span', attrs={'class':'metascore favorable'})[0].text.strip()\n",
    "    else:\n",
    "        MetaScore = \"0\"\n",
    "\n",
    "        \n",
    "    temp.append((Title,IMDB_Rating,MetaScore,Vote))\n",
    "temp"
   ]
  },
  {
   "cell_type": "markdown",
   "metadata": {},
   "source": [
    "### Creating data frame & Data wrangling"
   ]
  },
  {
   "cell_type": "code",
   "execution_count": 47,
   "metadata": {
    "ExecuteTime": {
     "end_time": "2020-01-13T05:12:41.517372Z",
     "start_time": "2020-01-13T05:12:29.130015Z"
    }
   },
   "outputs": [
    {
     "data": {
      "text/html": [
       "<div>\n",
       "<style scoped>\n",
       "    .dataframe tbody tr th:only-of-type {\n",
       "        vertical-align: middle;\n",
       "    }\n",
       "\n",
       "    .dataframe tbody tr th {\n",
       "        vertical-align: top;\n",
       "    }\n",
       "\n",
       "    .dataframe thead th {\n",
       "        text-align: right;\n",
       "    }\n",
       "</style>\n",
       "<table border=\"1\" class=\"dataframe\">\n",
       "  <thead>\n",
       "    <tr style=\"text-align: right;\">\n",
       "      <th></th>\n",
       "      <th>Title</th>\n",
       "      <th>IMDB_Rating</th>\n",
       "      <th>MetaScore</th>\n",
       "      <th>Vote</th>\n",
       "    </tr>\n",
       "  </thead>\n",
       "  <tbody>\n",
       "    <tr>\n",
       "      <th>0</th>\n",
       "      <td>Fate: The Winx Saga</td>\n",
       "      <td>6.9</td>\n",
       "      <td>0</td>\n",
       "      <td>45246</td>\n",
       "    </tr>\n",
       "    <tr>\n",
       "      <th>1</th>\n",
       "      <td>The White Lotus</td>\n",
       "      <td>7.6</td>\n",
       "      <td>0</td>\n",
       "      <td>68494</td>\n",
       "    </tr>\n",
       "    <tr>\n",
       "      <th>2</th>\n",
       "      <td>Only Murders in the Building</td>\n",
       "      <td>8.1</td>\n",
       "      <td>0</td>\n",
       "      <td>97011</td>\n",
       "    </tr>\n",
       "    <tr>\n",
       "      <th>3</th>\n",
       "      <td>Abbott Elementary</td>\n",
       "      <td>8.2</td>\n",
       "      <td>0</td>\n",
       "      <td>14141</td>\n",
       "    </tr>\n",
       "    <tr>\n",
       "      <th>4</th>\n",
       "      <td>La Brea</td>\n",
       "      <td>5.7</td>\n",
       "      <td>0</td>\n",
       "      <td>10402</td>\n",
       "    </tr>\n",
       "  </tbody>\n",
       "</table>\n",
       "</div>"
      ],
      "text/plain": [
       "                          Title IMDB_Rating MetaScore   Vote\n",
       "0           Fate: The Winx Saga         6.9         0  45246\n",
       "1               The White Lotus         7.6         0  68494\n",
       "2  Only Murders in the Building         8.1         0  97011\n",
       "3             Abbott Elementary         8.2         0  14141\n",
       "4                       La Brea         5.7         0  10402"
      ]
     },
     "execution_count": 47,
     "metadata": {},
     "output_type": "execute_result"
    }
   ],
   "source": [
    "import pandas as pd\n",
    "\n",
    "Data_Film = pd.DataFrame(temp, columns = ('Title','IMDB_Rating','MetaScore','Vote'))\n",
    "Data_Film.head()"
   ]
  },
  {
   "cell_type": "code",
   "execution_count": 48,
   "metadata": {},
   "outputs": [
    {
     "data": {
      "text/plain": [
       "Title          object\n",
       "IMDB_Rating    object\n",
       "MetaScore      object\n",
       "Vote           object\n",
       "dtype: object"
      ]
     },
     "execution_count": 48,
     "metadata": {},
     "output_type": "execute_result"
    }
   ],
   "source": [
    "Data_Film.dtypes"
   ]
  },
  {
   "cell_type": "code",
   "execution_count": 49,
   "metadata": {},
   "outputs": [
    {
     "data": {
      "text/plain": [
       "Title           object\n",
       "IMDB_Rating    float64\n",
       "MetaScore      float64\n",
       "Vote             int64\n",
       "dtype: object"
      ]
     },
     "execution_count": 49,
     "metadata": {},
     "output_type": "execute_result"
    }
   ],
   "source": [
    "Data_Film[['IMDB_Rating','MetaScore']] = Data_Film[['IMDB_Rating','MetaScore']].astype('float64')\n",
    "Data_Film['Vote'] = Data_Film['Vote'].astype('int64')\n",
    "Data_Film.dtypes"
   ]
  },
  {
   "cell_type": "markdown",
   "metadata": {},
   "source": [
    "##### Pengurutan Berdasarkan Popularitas Dari WEB"
   ]
  },
  {
   "cell_type": "code",
   "execution_count": 83,
   "metadata": {},
   "outputs": [
    {
     "data": {
      "text/html": [
       "<div>\n",
       "<style scoped>\n",
       "    .dataframe tbody tr th:only-of-type {\n",
       "        vertical-align: middle;\n",
       "    }\n",
       "\n",
       "    .dataframe tbody tr th {\n",
       "        vertical-align: top;\n",
       "    }\n",
       "\n",
       "    .dataframe thead th {\n",
       "        text-align: right;\n",
       "    }\n",
       "</style>\n",
       "<table border=\"1\" class=\"dataframe\">\n",
       "  <thead>\n",
       "    <tr style=\"text-align: right;\">\n",
       "      <th></th>\n",
       "      <th>IMDB_Rating</th>\n",
       "      <th>MetaScore</th>\n",
       "    </tr>\n",
       "    <tr>\n",
       "      <th>Title</th>\n",
       "      <th></th>\n",
       "      <th></th>\n",
       "    </tr>\n",
       "  </thead>\n",
       "  <tbody>\n",
       "    <tr>\n",
       "      <th>Fate: The Winx Saga</th>\n",
       "      <td>6.9</td>\n",
       "      <td>0.0</td>\n",
       "    </tr>\n",
       "    <tr>\n",
       "      <th>The White Lotus</th>\n",
       "      <td>7.6</td>\n",
       "      <td>0.0</td>\n",
       "    </tr>\n",
       "    <tr>\n",
       "      <th>Only Murders in the Building</th>\n",
       "      <td>8.1</td>\n",
       "      <td>0.0</td>\n",
       "    </tr>\n",
       "    <tr>\n",
       "      <th>Abbott Elementary</th>\n",
       "      <td>8.2</td>\n",
       "      <td>0.0</td>\n",
       "    </tr>\n",
       "    <tr>\n",
       "      <th>La Brea</th>\n",
       "      <td>5.7</td>\n",
       "      <td>0.0</td>\n",
       "    </tr>\n",
       "    <tr>\n",
       "      <th>Resident Alien</th>\n",
       "      <td>8.1</td>\n",
       "      <td>0.0</td>\n",
       "    </tr>\n",
       "    <tr>\n",
       "      <th>The Black Phone</th>\n",
       "      <td>7.0</td>\n",
       "      <td>65.0</td>\n",
       "    </tr>\n",
       "  </tbody>\n",
       "</table>\n",
       "</div>"
      ],
      "text/plain": [
       "                              IMDB_Rating  MetaScore\n",
       "Title                                               \n",
       "Fate: The Winx Saga                   6.9        0.0\n",
       "The White Lotus                       7.6        0.0\n",
       "Only Murders in the Building          8.1        0.0\n",
       "Abbott Elementary                     8.2        0.0\n",
       "La Brea                               5.7        0.0\n",
       "Resident Alien                        8.1        0.0\n",
       "The Black Phone                       7.0       65.0"
      ]
     },
     "execution_count": 83,
     "metadata": {},
     "output_type": "execute_result"
    }
   ],
   "source": [
    "Data_Popularitas= Data_Film.drop(['Vote'], axis = 1).head(7).set_index('Title')\n",
    "Data_Popularitas"
   ]
  },
  {
   "cell_type": "markdown",
   "metadata": {},
   "source": [
    "##### Pengurutan Berdasarkan IMDB Rating"
   ]
  },
  {
   "cell_type": "code",
   "execution_count": 51,
   "metadata": {
    "ExecuteTime": {
     "end_time": "2020-01-13T05:12:59.165559Z",
     "start_time": "2020-01-13T05:12:58.910012Z"
    }
   },
   "outputs": [
    {
     "data": {
      "text/html": [
       "<div>\n",
       "<style scoped>\n",
       "    .dataframe tbody tr th:only-of-type {\n",
       "        vertical-align: middle;\n",
       "    }\n",
       "\n",
       "    .dataframe tbody tr th {\n",
       "        vertical-align: top;\n",
       "    }\n",
       "\n",
       "    .dataframe thead th {\n",
       "        text-align: right;\n",
       "    }\n",
       "</style>\n",
       "<table border=\"1\" class=\"dataframe\">\n",
       "  <thead>\n",
       "    <tr style=\"text-align: right;\">\n",
       "      <th></th>\n",
       "      <th>IMDB_Rating</th>\n",
       "    </tr>\n",
       "    <tr>\n",
       "      <th>Title</th>\n",
       "      <th></th>\n",
       "    </tr>\n",
       "  </thead>\n",
       "  <tbody>\n",
       "    <tr>\n",
       "      <th>Arcane: League of Legends</th>\n",
       "      <td>9.0</td>\n",
       "    </tr>\n",
       "    <tr>\n",
       "      <th>1883</th>\n",
       "      <td>8.8</td>\n",
       "    </tr>\n",
       "    <tr>\n",
       "      <th>Dopesick</th>\n",
       "      <td>8.6</td>\n",
       "    </tr>\n",
       "    <tr>\n",
       "      <th>Mare of Easttown</th>\n",
       "      <td>8.4</td>\n",
       "    </tr>\n",
       "    <tr>\n",
       "      <th>Spider-Man: No Way Home</th>\n",
       "      <td>8.3</td>\n",
       "    </tr>\n",
       "    <tr>\n",
       "      <th>Hacks</th>\n",
       "      <td>8.2</td>\n",
       "    </tr>\n",
       "    <tr>\n",
       "      <th>Abbott Elementary</th>\n",
       "      <td>8.2</td>\n",
       "    </tr>\n",
       "  </tbody>\n",
       "</table>\n",
       "</div>"
      ],
      "text/plain": [
       "                           IMDB_Rating\n",
       "Title                                 \n",
       "Arcane: League of Legends          9.0\n",
       "1883                               8.8\n",
       "Dopesick                           8.6\n",
       "Mare of Easttown                   8.4\n",
       "Spider-Man: No Way Home            8.3\n",
       "Hacks                              8.2\n",
       "Abbott Elementary                  8.2"
      ]
     },
     "execution_count": 51,
     "metadata": {},
     "output_type": "execute_result"
    }
   ],
   "source": [
    "Data_Rating= Data_Film.sort_values(by= 'IMDB_Rating', ascending=False).set_index('Title')\n",
    "Data_Rating[['IMDB_Rating']].head(7)"
   ]
  },
  {
   "cell_type": "markdown",
   "metadata": {},
   "source": [
    "##### Pengurutan Berdasarkan MetaScore"
   ]
  },
  {
   "cell_type": "code",
   "execution_count": 52,
   "metadata": {},
   "outputs": [
    {
     "data": {
      "text/html": [
       "<div>\n",
       "<style scoped>\n",
       "    .dataframe tbody tr th:only-of-type {\n",
       "        vertical-align: middle;\n",
       "    }\n",
       "\n",
       "    .dataframe tbody tr th {\n",
       "        vertical-align: top;\n",
       "    }\n",
       "\n",
       "    .dataframe thead th {\n",
       "        text-align: right;\n",
       "    }\n",
       "</style>\n",
       "<table border=\"1\" class=\"dataframe\">\n",
       "  <thead>\n",
       "    <tr style=\"text-align: right;\">\n",
       "      <th></th>\n",
       "      <th>MetaScore</th>\n",
       "    </tr>\n",
       "    <tr>\n",
       "      <th>Title</th>\n",
       "      <th></th>\n",
       "    </tr>\n",
       "  </thead>\n",
       "  <tbody>\n",
       "    <tr>\n",
       "      <th>Licorice Pizza</th>\n",
       "      <td>90.0</td>\n",
       "    </tr>\n",
       "    <tr>\n",
       "      <th>Pleasure</th>\n",
       "      <td>75.0</td>\n",
       "    </tr>\n",
       "    <tr>\n",
       "      <th>Dune: Part One</th>\n",
       "      <td>74.0</td>\n",
       "    </tr>\n",
       "    <tr>\n",
       "      <th>Spider-Man: No Way Home</th>\n",
       "      <td>71.0</td>\n",
       "    </tr>\n",
       "    <tr>\n",
       "      <th>Gekijouban Jujutsu Kaisen 0</th>\n",
       "      <td>71.0</td>\n",
       "    </tr>\n",
       "    <tr>\n",
       "      <th>No Time to Die</th>\n",
       "      <td>68.0</td>\n",
       "    </tr>\n",
       "    <tr>\n",
       "      <th>Last Night in Soho</th>\n",
       "      <td>65.0</td>\n",
       "    </tr>\n",
       "  </tbody>\n",
       "</table>\n",
       "</div>"
      ],
      "text/plain": [
       "                             MetaScore\n",
       "Title                                 \n",
       "Licorice Pizza                    90.0\n",
       "Pleasure                          75.0\n",
       "Dune: Part One                    74.0\n",
       "Spider-Man: No Way Home           71.0\n",
       "Gekijouban Jujutsu Kaisen 0       71.0\n",
       "No Time to Die                    68.0\n",
       "Last Night in Soho                65.0"
      ]
     },
     "execution_count": 52,
     "metadata": {},
     "output_type": "execute_result"
    }
   ],
   "source": [
    "Data_Score= Data_Film.sort_values(by= 'MetaScore', ascending=False).set_index('Title')\n",
    "Data_Score[['MetaScore']].head(7)"
   ]
  },
  {
   "cell_type": "markdown",
   "metadata": {},
   "source": [
    "##### Pengurutan Berdasarkan Vote"
   ]
  },
  {
   "cell_type": "code",
   "execution_count": 53,
   "metadata": {},
   "outputs": [
    {
     "data": {
      "text/html": [
       "<div>\n",
       "<style scoped>\n",
       "    .dataframe tbody tr th:only-of-type {\n",
       "        vertical-align: middle;\n",
       "    }\n",
       "\n",
       "    .dataframe tbody tr th {\n",
       "        vertical-align: top;\n",
       "    }\n",
       "\n",
       "    .dataframe thead th {\n",
       "        text-align: right;\n",
       "    }\n",
       "</style>\n",
       "<table border=\"1\" class=\"dataframe\">\n",
       "  <thead>\n",
       "    <tr style=\"text-align: right;\">\n",
       "      <th></th>\n",
       "      <th>Vote</th>\n",
       "    </tr>\n",
       "    <tr>\n",
       "      <th>Title</th>\n",
       "      <th></th>\n",
       "    </tr>\n",
       "  </thead>\n",
       "  <tbody>\n",
       "    <tr>\n",
       "      <th>Spider-Man: No Way Home</th>\n",
       "      <td>731957</td>\n",
       "    </tr>\n",
       "    <tr>\n",
       "      <th>Dune: Part One</th>\n",
       "      <td>615652</td>\n",
       "    </tr>\n",
       "    <tr>\n",
       "      <th>Don't Look Up</th>\n",
       "      <td>527099</td>\n",
       "    </tr>\n",
       "    <tr>\n",
       "      <th>Ojing-eo geim</th>\n",
       "      <td>436653</td>\n",
       "    </tr>\n",
       "    <tr>\n",
       "      <th>No Time to Die</th>\n",
       "      <td>390881</td>\n",
       "    </tr>\n",
       "    <tr>\n",
       "      <th>Free Guy</th>\n",
       "      <td>361749</td>\n",
       "    </tr>\n",
       "    <tr>\n",
       "      <th>Eternals</th>\n",
       "      <td>333997</td>\n",
       "    </tr>\n",
       "  </tbody>\n",
       "</table>\n",
       "</div>"
      ],
      "text/plain": [
       "                           Vote\n",
       "Title                          \n",
       "Spider-Man: No Way Home  731957\n",
       "Dune: Part One           615652\n",
       "Don't Look Up            527099\n",
       "Ojing-eo geim            436653\n",
       "No Time to Die           390881\n",
       "Free Guy                 361749\n",
       "Eternals                 333997"
      ]
     },
     "execution_count": 53,
     "metadata": {},
     "output_type": "execute_result"
    }
   ],
   "source": [
    "Data_Vote= Data_Film.sort_values(by= 'Vote', ascending=False).set_index('Title')\n",
    "Data_Vote[['Vote']].head(7)"
   ]
  },
  {
   "cell_type": "markdown",
   "metadata": {},
   "source": [
    "### Data visualisation\n",
    "Seluruh data yang telah diurutkan di atas akan divisualisasikan dalam sebuah bar plot"
   ]
  },
  {
   "cell_type": "markdown",
   "metadata": {},
   "source": [
    "#####  Plot Popularitas Dari WEB"
   ]
  },
  {
   "cell_type": "code",
   "execution_count": 100,
   "metadata": {},
   "outputs": [
    {
     "data": {
      "image/png": "[encoded data removed]",
      "text/plain": [
       "<Figure size 640x480 with 1 Axes>"
      ]
     },
     "metadata": {},
     "output_type": "display_data"
    }
   ],
   "source": [
    "Data_Popularitas.set_index('Title').plot.barh(title = '7 FILM TERATAS BERDASARKAN POPULARITAS DI WEB').invert_yaxis()"
   ]
  },
  {
   "cell_type": "markdown",
   "metadata": {},
   "source": [
    "#####  Plot IMDB Rating"
   ]
  },
  {
   "cell_type": "code",
   "execution_count": 54,
   "metadata": {},
   "outputs": [
    {
     "data": {
      "text/plain": [
       "<AxesSubplot:title={'center':'7 FILM TERATAS BERDASARKAN IMDB RATING'}, ylabel='Title'>"
      ]
     },
     "execution_count": 54,
     "metadata": {},
     "output_type": "execute_result"
    },
    {
     "data": {
      "image/png": "[encoded data removed]",
      "text/plain": [
       "<Figure size 640x480 with 1 Axes>"
      ]
     },
     "metadata": {},
     "output_type": "display_data"
    }
   ],
   "source": [
    "D_Rating = Data_Film.sort_values(by= 'IMDB_Rating', ascending=True).set_index('Title')\n",
    "D_Rating['IMDB_Rating'].tail(7).plot.barh(title = '7 FILM TERATAS BERDASARKAN IMDB RATING')"
   ]
  },
  {
   "cell_type": "markdown",
   "metadata": {},
   "source": [
    "#####  Plot MetaScore"
   ]
  },
  {
   "cell_type": "code",
   "execution_count": 55,
   "metadata": {},
   "outputs": [
    {
     "data": {
      "text/plain": [
       "<AxesSubplot:title={'center':'7 FILM TERATAS BERDASARKAN METASCORE'}, ylabel='Title'>"
      ]
     },
     "execution_count": 55,
     "metadata": {},
     "output_type": "execute_result"
    },
    {
     "data": {
      "image/png": "[encoded data removed]",
      "text/plain": [
       "<Figure size 640x480 with 1 Axes>"
      ]
     },
     "metadata": {},
     "output_type": "display_data"
    }
   ],
   "source": [
    "D_Score= Data_Film.sort_values(by= 'MetaScore', ascending=True).set_index('Title')\n",
    "D_Score['MetaScore'].tail(7).plot.barh(title = '7 FILM TERATAS BERDASARKAN METASCORE')"
   ]
  },
  {
   "cell_type": "markdown",
   "metadata": {},
   "source": [
    "#####  Plot Vote"
   ]
  },
  {
   "cell_type": "code",
   "execution_count": 56,
   "metadata": {},
   "outputs": [
    {
     "data": {
      "text/plain": [
       "<AxesSubplot:title={'center':'7 FILM TERATAS BERDASARKAN BANYAK VOTE'}, ylabel='Title'>"
      ]
     },
     "execution_count": 56,
     "metadata": {},
     "output_type": "execute_result"
    },
    {
     "data": {
      "image/png": "[encoded data removed]",
      "text/plain": [
       "<Figure size 640x480 with 1 Axes>"
      ]
     },
     "metadata": {},
     "output_type": "display_data"
    }
   ],
   "source": [
    "# Berdasarkan Vote\n",
    "D_Vote= Data_Film.sort_values(by= 'Vote', ascending=True).set_index('Title')\n",
    "D_Vote['Vote'].tail(7).plot.barh(title = '7 FILM TERATAS BERDASARKAN BANYAK VOTE')"
   ]
  },
  {
   "cell_type": "markdown",
   "metadata": {},
   "source": [
    "## Analysis and Conclusion\n"
   ]
  },
  {
   "cell_type": "markdown",
   "metadata": {
    "ExecuteTime": {
     "end_time": "2020-01-13T05:20:56.208237Z",
     "start_time": "2020-01-13T05:20:56.076043Z"
    }
   },
   "source": [
    "Berdasarkan seluruh chart yang telah ditampilkan dapat ditarik kesimpulan bahwa setiap tipe (Popularitas, IMDB Rating, MetaScore, dan Vote) memiliki hasil yang berbeda dan tidak semua film memiliki MetaScore. Besaran data yang dimiliki oleh setiap tipe ini juga berbeda dimana Data pada IMDB Rating memiliki nilai satuan, pada MetaScore memiliki nilai puluhan, dan pada Vote sangat berbeda jauh yaitu memiliki nilai ratusan ribu. Hal-hal ini menyebabkan data ketiga tipe tersebut tidak bisa ditampilkan dalam satu plot. Seperti pada tipe Popularitas yang hanya dapat ditampilkan nilai IMDB Rating dan MetaScore saja, juga film yang memiliki nilai MetasSore pada tipe Popularitas ini hanya film dengan judul **The Black Phone**. Dari keseluruhan film **Spider-Man: No Way Home** selain sebagai film dengan Vote tertinggi tetapi juga selalu muncul pada setiap tipe, dapat disimpulkan bahwa film **Spider-Man: No Way Home** adalah film yang sangat diminati, walau sangat disayangkan film ini tidak termasuk 7 film populer berdasarkan pengurutan Popularitas di WEB www.imdb.com."
   ]
  }
 ],
 "metadata": {
  "kernelspec": {
   "display_name": "Capstone_DA",
   "language": "python",
   "name": "capstone_da"
  },
  "language_info": {
   "codemirror_mode": {
    "name": "ipython",
    "version": 3
   },
   "file_extension": ".py",
   "mimetype": "text/x-python",
   "name": "python",
   "nbconvert_exporter": "python",
   "pygments_lexer": "ipython3",
   "version": "3.8.13"
  }
 },
 "nbformat": 4,
 "nbformat_minor": 2
}
